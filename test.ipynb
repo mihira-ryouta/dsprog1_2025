{
 "cells": [
  {
   "cell_type": "code",
   "execution_count": 15,
   "id": "06243770",
   "metadata": {},
   "outputs": [],
   "source": [
    "# webスクレイピングに最低限必要なライブラリをインポート\n",
    "import requests\n",
    "from bs4 import BeautifulSoup"
   ]
  },
  {
   "cell_type": "markdown",
   "id": "3d7f7470",
   "metadata": {},
   "source": [
    "# HTTPリクエスト\n",
    "## 基本のリクエスト"
   ]
  },
  {
   "cell_type": "code",
   "execution_count": 16,
   "id": "0ce4b213",
   "metadata": {},
   "outputs": [],
   "source": [
    "#　アクセスしたいwebサイトのURLを指定\n",
    "url = \"https://www.musashino-u.ac.jp/\"\n",
    "\n",
    "#webサーバーにHTTPリクエストを送信\n",
    "#レスポンスを変数に格納しておく\n",
    "res = requests.get(url)"
   ]
  },
  {
   "cell_type": "code",
   "execution_count": 17,
   "id": "e2ee6edb",
   "metadata": {},
   "outputs": [
    {
     "name": "stdout",
     "output_type": "stream",
     "text": [
      "レスポンス：<Response [200]>\n",
      "レスポンスの型：<class 'requests.models.Response'>\n",
      "ステータスコード：200\n",
      "ステータスメッセージ：OK\n",
      "リクエスト：<PreparedRequest [GET]>\n",
      "リクエストの型：<class 'requests.models.PreparedRequest'>\n",
      "リクエストのヘッダー：{'User-Agent': 'python-requests/2.32.5', 'Accept-Encoding': 'gzip, deflate', 'Accept': '*/*', 'Connection': 'keep-alive'}\n",
      "リクエストメソッド：GET\n",
      "リクエストURL：https://www.musashino-u.ac.jp/\n"
     ]
    }
   ],
   "source": [
    "res.encoding = res.apparent_encoding  #レスポンスのエンコーディングを設定\n",
    "\n",
    "print(f\"レスポンス：{res}\")  #レスポンスオブジェクトを表示\n",
    "print(f\"レスポンスの型：{type(res)}\")  #レスポンスオブジェクトの型を表示\n",
    "print(f\"ステータスコード：{res.status_code}\")  #ステータスコードを表示\n",
    "print(f\"ステータスメッセージ：{res.reason}\")  #ステータスメッセージを表示\n",
    "\n",
    "print(f\"リクエスト：{res.request}\")  #リクエストオブジェクトを表示\n",
    "print(f\"リクエストの型：{type(res.request)}\")  #リクエストオブジェクトの型を表示\n",
    "print(f\"リクエストのヘッダー：{res.request.headers}\")  #リクエストヘッダーを表示\n",
    "print(f\"リクエストメソッド：{res.request.method}\")  #リクエストメソッドを表示\n",
    "print(f\"リクエストURL：{res.request.url}\")  #リクエストURLを表示"
   ]
  },
  {
   "cell_type": "code",
   "execution_count": null,
   "id": "a60c0a3a",
   "metadata": {},
   "outputs": [],
   "source": [
    "# レスポンス\n",
    "print(f\"レスポンスヘッダー：{res.headers}\")  #レスポンスヘッダーを表示\n",
    "print(f\"レスポンスボディ：{res.text}\") #レスポンスボディを表示"
   ]
  },
  {
   "cell_type": "code",
   "execution_count": 19,
   "id": "691380eb",
   "metadata": {},
   "outputs": [],
   "source": [
    "#悪用厳禁(普通のブラウザのように振る舞うための偽りのヘッダー情報)\n",
    "headers = {\n",
    "    'User-Agent': 'Mozilla/5.0 (Windows NT 10.0; Win64; x64) AppleWebKit/537.36 (KHTML, like Gecko) Chrome/58.0.3029.110 Safari/537.3'\n",
    "}"
   ]
  },
  {
   "cell_type": "code",
   "execution_count": null,
   "id": "f5f01a9c",
   "metadata": {},
   "outputs": [],
   "source": [
    "# 別のURLにアクセス\n",
    "#https://ja.wikipedia.org/wiki/%E6%AD%A6%E8%94%B5%E9%87%8E%E5%A4%A7%E5%AD%A6\n",
    "url = 'https://ja.wikipedia.org/wiki/武蔵野大学'\n",
    "res = requests.get(url, headers=headers)\n",
    "print(f\"ステータスコード：{res.status_code}\")  #ステータスコードを表示\n",
    "print(f\"レスポンスボディ：{res.text}\") #レスポンスボディを表示"
   ]
  },
  {
   "cell_type": "markdown",
   "id": "41b40048",
   "metadata": {},
   "source": [
    "## パラメータ付きのリクエスト"
   ]
  },
  {
   "cell_type": "code",
   "execution_count": null,
   "id": "9598b165",
   "metadata": {},
   "outputs": [],
   "source": [
    "#url = \"https://www.musashino-u.ac.jp/search.html?qyery=データサイエンス\"\n",
    "url = \"https://www.musashino-u.ac.jp/search.html\"\n",
    "params = {\n",
    "    'query': 'データサイエンス'\n",
    "}\n",
    "res = requests.get(url, headers=headers, params=params)\n",
    "res.encoding = res.apparent_encoding  #レスポンスのエンコーディングを設定\n",
    "print(f\"ステータスコード：{res.status_code}\")  #ステータスコードを表示\n",
    "print(f\"レスポンスボディ：{res.text}\") #レスポンスボディを表示"
   ]
  },
  {
   "cell_type": "markdown",
   "id": "0971280a",
   "metadata": {},
   "source": [
    "# BeautifulSSoupでHTMLソースから任意の情報を取得する"
   ]
  },
  {
   "cell_type": "code",
   "execution_count": 24,
   "id": "a1b01d9d",
   "metadata": {},
   "outputs": [
    {
     "name": "stdout",
     "output_type": "stream",
     "text": [
      "ステータスコード：200\n"
     ]
    }
   ],
   "source": [
    "url = \"https://www.musashino-u.ac.jp/\"\n",
    "res = requests.get(url, headers=headers)\n",
    "res.encoding = res.apparent_encoding  #レスポンスのエンコーディングを設定\n",
    "print(f\"ステータスコード：{res.status_code}\")  #ステータスコードを表示"
   ]
  },
  {
   "cell_type": "code",
   "execution_count": 25,
   "id": "8e375b6a",
   "metadata": {},
   "outputs": [
    {
     "name": "stdout",
     "output_type": "stream",
     "text": [
      "soupの型：<class 'bs4.BeautifulSoup'>\n"
     ]
    }
   ],
   "source": [
    "# HTMLのソースコードを解析\n",
    "soup = BeautifulSoup(res.text, 'html.parser')\n",
    "print(f\"soupの型：{type(soup)}\")  #soupオブジェクトの型を表示"
   ]
  },
  {
   "cell_type": "code",
   "execution_count": null,
   "id": "63a1cf32",
   "metadata": {},
   "outputs": [],
   "source": [
    "# ソースコード全体から<a>タグを抽出\n",
    "soup_a = soup.a\n",
    "print(f\"<a>タグ：{soup_a}\")  #最初に見つかった<a>タグを表示\n",
    "print(f\"<a>タグの型：{type(soup_a)}\")  #<a>タグオブジェクトの型を表示\n",
    "\n",
    "# ソースコード全体から<p>タグを抽出\n",
    "soup_p = soup.p\n",
    "print(f\"<p>タグ：{soup_p}\")  #最初に見つかった<p>タグを表示\n",
    "print(f\"<p>タグの型：{type(soup_p)}\")  #<p>タグオブジェクトの型を表示\n"
   ]
  },
  {
   "cell_type": "code",
   "execution_count": 30,
   "id": "2a041539",
   "metadata": {},
   "outputs": [
    {
     "name": "stdout",
     "output_type": "stream",
     "text": [
      "<div>タグの中の<div>タグ：<div class=\"c-skip\">\n",
      "<a href=\"#main\">\n",
      "\t\t\t\t\tこのページの本文へ移動\n",
      "\t\t\t\t</a>\n",
      "</div>\n",
      "<div>タグの中の<div>タグの型：<class 'bs4.element.Tag'>\n"
     ]
    }
   ],
   "source": [
    "# ソースコード全体から<div>タグを抽出\n",
    "soup_div = soup.div\n",
    "# print(f\"<div>タグ：{soup_div}\")  #最初に見つかった<div>タグを表示\n",
    "# print(f\"<div>タグの型：{type(soup_div)}\")  #<div>タグオブジェクトの型を表示\n",
    "\n",
    "soup_div_div = soup_div.div\n",
    "print(f\"<div>タグの中の<div>タグ：{soup_div_div}\")  #最初に見つかった<div>タグの中の<div>タグを表示\n",
    "print(f\"<div>タグの中の<div>タグの型：{type(soup_div_div)}\")  #<div>タグの中の<div>タグオブジェクトの型を表示"
   ]
  },
  {
   "cell_type": "code",
   "execution_count": 31,
   "id": "4e224df2",
   "metadata": {},
   "outputs": [
    {
     "name": "stdout",
     "output_type": "stream",
     "text": [
      "<div>タグの中の<div>タグ：<div class=\"c-skip\">\n",
      "<a href=\"#main\">\n",
      "\t\t\t\t\tこのページの本文へ移動\n",
      "\t\t\t\t</a>\n",
      "</div>\n",
      "<div>タグの中の<div>タグの型：<class 'bs4.element.Tag'>\n"
     ]
    }
   ],
   "source": [
    "# BeautifulSSoupのオブジェクトとTagオブジェクトは、 \".\"でHTMLタグを連結することでより深いタグにアクセスできる\n",
    "soup_div_div = soup_div.div\n",
    "print(f\"<div>タグの中の<div>タグ：{soup_div_div}\")  #最初に見つかった<div>タグを表示\n",
    "print(f\"<div>タグの中の<div>タグの型：{type(soup_div_div)}\")  #<div>タグオブジェクトの型を表示"
   ]
  },
  {
   "cell_type": "code",
   "execution_count": 32,
   "id": "0a64bc96",
   "metadata": {},
   "outputs": [
    {
     "name": "stdout",
     "output_type": "stream",
     "text": [
      "<a>タグのテキスト：\n",
      "\t\t\t\t\tこのページの本文へ移動\n",
      "\t\t\t\t\n",
      "<div>タグの中の<div>タグのテキスト：None\n"
     ]
    }
   ],
   "source": [
    "# Tagオブジェクト.stringでタグ内のテキスト情報を取得可能\n",
    "print(f\"<a>タグのテキスト：{soup_a.string}\")  #<a>タグのテキストを表示\n",
    "\n",
    "print(f\"<div>タグの中の<div>タグのテキスト：{soup_div_div.string}\")  #<div>タグの中の<div>タグのテキストを表示"
   ]
  }
 ],
 "metadata": {
  "kernelspec": {
   "display_name": ".venv (3.12.12)",
   "language": "python",
   "name": "python3"
  },
  "language_info": {
   "codemirror_mode": {
    "name": "ipython",
    "version": 3
   },
   "file_extension": ".py",
   "mimetype": "text/x-python",
   "name": "python",
   "nbconvert_exporter": "python",
   "pygments_lexer": "ipython3",
   "version": "3.12.12"
  }
 },
 "nbformat": 4,
 "nbformat_minor": 5
}
